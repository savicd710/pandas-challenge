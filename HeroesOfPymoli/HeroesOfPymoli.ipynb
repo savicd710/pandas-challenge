{
 "cells": [
  {
   "cell_type": "markdown",
   "metadata": {},
   "source": [
    "## Observable Trends\n",
    "1. The gender demographics are largely skewed with 84.03% of the total number of players being male. Interesting enough, despite being the gender that contributed the most to revenue, males paid on average less for a book than their female counterparts and other undisclosed.\n",
    "\n",
    "2. The age demographics paint a similar picture in which a large minority of the players (almost half, 44.79%) fall in between the ages of 20 and 24. More than three quarters (76.74%) of our players fall within the ages of 15 and 29 indicating the primary target age range for our audience.\n",
    "\n",
    "3. Upon comparison of the most popular items and most profitable items, it seems that both Final Critic and Oathbreaker, Last Hope of the Breaking Storm hold the top spots, respectively, in both tables. Considering that most popular items were sorted by Purchase Count and most profitable items were sorted by Total Purchase Value, it is safe to assume that our most popular items generally tend to be our most profitable items. This is an important trend to keep in mind when evaluating which products to keep in stock."
   ]
  },
  {
   "cell_type": "markdown",
   "metadata": {},
   "source": [
    "### Note\n",
    "* Instructions have been included for each segment. You do not have to follow them exactly, but they are included to help you think through the steps."
   ]
  },
  {
   "cell_type": "code",
   "execution_count": 167,
   "metadata": {},
   "outputs": [],
   "source": [
    "# Dependencies and Setup\n",
    "import pandas as pd\n",
    "\n",
    "# File to Load (Remember to Change These)\n",
    "file_to_load = \"Resources/purchase_data.csv\"\n",
    "\n",
    "# Read Purchasing File and store into Pandas data frame\n",
    "purchase_data = pd.read_csv(file_to_load)"
   ]
  },
  {
   "cell_type": "markdown",
   "metadata": {},
   "source": [
    "## Player Count"
   ]
  },
  {
   "cell_type": "markdown",
   "metadata": {},
   "source": [
    "* Display the total number of players\n"
   ]
  },
  {
   "cell_type": "code",
   "execution_count": 168,
   "metadata": {},
   "outputs": [
    {
     "data": {
      "text/html": [
       "<div>\n",
       "<style scoped>\n",
       "    .dataframe tbody tr th:only-of-type {\n",
       "        vertical-align: middle;\n",
       "    }\n",
       "\n",
       "    .dataframe tbody tr th {\n",
       "        vertical-align: top;\n",
       "    }\n",
       "\n",
       "    .dataframe thead th {\n",
       "        text-align: right;\n",
       "    }\n",
       "</style>\n",
       "<table border=\"1\" class=\"dataframe\">\n",
       "  <thead>\n",
       "    <tr style=\"text-align: right;\">\n",
       "      <th></th>\n",
       "      <th>Total Players</th>\n",
       "    </tr>\n",
       "  </thead>\n",
       "  <tbody>\n",
       "    <tr>\n",
       "      <th>0</th>\n",
       "      <td>576</td>\n",
       "    </tr>\n",
       "  </tbody>\n",
       "</table>\n",
       "</div>"
      ],
      "text/plain": [
       "   Total Players\n",
       "0            576"
      ]
     },
     "execution_count": 168,
     "metadata": {},
     "output_type": "execute_result"
    }
   ],
   "source": [
    "total_players = len(purchase_data.SN.value_counts())\n",
    "total_player_count = pd.DataFrame({\"Total Players\": total_players}, index=[0])\n",
    "total_player_count"
   ]
  },
  {
   "cell_type": "markdown",
   "metadata": {},
   "source": [
    "## Purchasing Analysis (Total)"
   ]
  },
  {
   "cell_type": "markdown",
   "metadata": {},
   "source": [
    "* Run basic calculations to obtain number of unique items, average price, etc.\n",
    "\n",
    "\n",
    "* Create a summary data frame to hold the results\n",
    "\n",
    "\n",
    "* Optional: give the displayed data cleaner formatting\n",
    "\n",
    "\n",
    "* Display the summary data frame\n"
   ]
  },
  {
   "cell_type": "code",
   "execution_count": 169,
   "metadata": {},
   "outputs": [
    {
     "data": {
      "text/html": [
       "<style type=\"text/css\">\n",
       "</style>\n",
       "<table id=\"T_1328e\">\n",
       "  <thead>\n",
       "    <tr>\n",
       "      <th class=\"blank level0\" >&nbsp;</th>\n",
       "      <th id=\"T_1328e_level0_col0\" class=\"col_heading level0 col0\" >Number of Unique Items</th>\n",
       "      <th id=\"T_1328e_level0_col1\" class=\"col_heading level0 col1\" >Average Price</th>\n",
       "      <th id=\"T_1328e_level0_col2\" class=\"col_heading level0 col2\" >Number of Purchases</th>\n",
       "      <th id=\"T_1328e_level0_col3\" class=\"col_heading level0 col3\" >Total Revenue</th>\n",
       "    </tr>\n",
       "  </thead>\n",
       "  <tbody>\n",
       "    <tr>\n",
       "      <th id=\"T_1328e_level0_row0\" class=\"row_heading level0 row0\" >0</th>\n",
       "      <td id=\"T_1328e_row0_col0\" class=\"data row0 col0\" >179</td>\n",
       "      <td id=\"T_1328e_row0_col1\" class=\"data row0 col1\" >$3.05</td>\n",
       "      <td id=\"T_1328e_row0_col2\" class=\"data row0 col2\" >780</td>\n",
       "      <td id=\"T_1328e_row0_col3\" class=\"data row0 col3\" >$2,379.77</td>\n",
       "    </tr>\n",
       "  </tbody>\n",
       "</table>\n"
      ],
      "text/plain": [
       "<pandas.io.formats.style.Styler at 0x1b0a18e6730>"
      ]
     },
     "execution_count": 169,
     "metadata": {},
     "output_type": "execute_result"
    }
   ],
   "source": [
    "#Run basic calculations\n",
    "unique_items = len(purchase_data['Item Name'].value_counts())\n",
    "average_price = purchase_data.Price.mean()\n",
    "number_purchases = purchase_data['Purchase ID'].count()\n",
    "total_revenue = purchase_data.Price.sum()\n",
    "\n",
    "#Create DataFrame\n",
    "purchasing_analysis_total = pd.DataFrame({\n",
    "    'Number of Unique Items': unique_items,\n",
    "    'Average Price': average_price,\n",
    "    'Number of Purchases': number_purchases,\n",
    "    'Total Revenue': total_revenue\n",
    "}, index=[0])\n",
    "\n",
    "\n",
    "#Format DataFrame\n",
    "purchasing_analysis_total = purchasing_analysis_total.style.format({\n",
    "    'Average Price': \"${:.2f}\",\n",
    "    'Total Revenue': \"${:,.2f}\",\n",
    "})\n",
    "\n",
    "purchasing_analysis_total"
   ]
  },
  {
   "cell_type": "markdown",
   "metadata": {},
   "source": [
    "## Gender Demographics"
   ]
  },
  {
   "cell_type": "markdown",
   "metadata": {},
   "source": [
    "* Percentage and Count of Male Players\n",
    "\n",
    "\n",
    "* Percentage and Count of Female Players\n",
    "\n",
    "\n",
    "* Percentage and Count of Other / Non-Disclosed\n",
    "\n",
    "\n"
   ]
  },
  {
   "cell_type": "code",
   "execution_count": 170,
   "metadata": {},
   "outputs": [
    {
     "data": {
      "text/html": [
       "<style type=\"text/css\">\n",
       "</style>\n",
       "<table id=\"T_5f3bd\">\n",
       "  <thead>\n",
       "    <tr>\n",
       "      <th class=\"blank level0\" >&nbsp;</th>\n",
       "      <th id=\"T_5f3bd_level0_col0\" class=\"col_heading level0 col0\" >Total Count</th>\n",
       "      <th id=\"T_5f3bd_level0_col1\" class=\"col_heading level0 col1\" >Percentage of Players</th>\n",
       "    </tr>\n",
       "  </thead>\n",
       "  <tbody>\n",
       "    <tr>\n",
       "      <th id=\"T_5f3bd_level0_row0\" class=\"row_heading level0 row0\" >Male</th>\n",
       "      <td id=\"T_5f3bd_row0_col0\" class=\"data row0 col0\" >484</td>\n",
       "      <td id=\"T_5f3bd_row0_col1\" class=\"data row0 col1\" >84.03%</td>\n",
       "    </tr>\n",
       "    <tr>\n",
       "      <th id=\"T_5f3bd_level0_row1\" class=\"row_heading level0 row1\" >Female</th>\n",
       "      <td id=\"T_5f3bd_row1_col0\" class=\"data row1 col0\" >81</td>\n",
       "      <td id=\"T_5f3bd_row1_col1\" class=\"data row1 col1\" >14.06%</td>\n",
       "    </tr>\n",
       "    <tr>\n",
       "      <th id=\"T_5f3bd_level0_row2\" class=\"row_heading level0 row2\" >Other / Non-Disclosed</th>\n",
       "      <td id=\"T_5f3bd_row2_col0\" class=\"data row2 col0\" >11</td>\n",
       "      <td id=\"T_5f3bd_row2_col1\" class=\"data row2 col1\" >1.91%</td>\n",
       "    </tr>\n",
       "  </tbody>\n",
       "</table>\n"
      ],
      "text/plain": [
       "<pandas.io.formats.style.Styler at 0x1b0a15c3b20>"
      ]
     },
     "execution_count": 170,
     "metadata": {},
     "output_type": "execute_result"
    }
   ],
   "source": [
    "#Group data by gender\n",
    "gender_grouped = purchase_data.groupby('Gender')\n",
    "\n",
    "#Count the gender using SN as unique identifier\n",
    "gender_count = gender_grouped.SN.nunique()\n",
    "\n",
    "#Percentage of gender by total\n",
    "percent_players = gender_count / total_players\n",
    "\n",
    "#Create the dataframe\n",
    "gender_demographics = pd.DataFrame({\n",
    "    'Total Count': gender_count,\n",
    "    'Percentage of Players': percent_players\n",
    "})\n",
    "\n",
    "#Format and remove index name\n",
    "gender_demographics = gender_demographics.sort_values(['Total Count'], ascending=False).style.format({'Percentage of Players': '{:.2%}'})\n",
    "\n",
    "gender_demographics.index.name = None\n",
    "\n",
    "gender_demographics\n"
   ]
  },
  {
   "cell_type": "markdown",
   "metadata": {},
   "source": [
    "\n",
    "## Purchasing Analysis (Gender)"
   ]
  },
  {
   "cell_type": "markdown",
   "metadata": {},
   "source": [
    "* Run basic calculations to obtain purchase count, avg. purchase price, avg. purchase total per person etc. by gender\n",
    "\n",
    "\n",
    "\n",
    "\n",
    "* Create a summary data frame to hold the results\n",
    "\n",
    "\n",
    "* Optional: give the displayed data cleaner formatting\n",
    "\n",
    "\n",
    "* Display the summary data frame"
   ]
  },
  {
   "cell_type": "code",
   "execution_count": 171,
   "metadata": {},
   "outputs": [
    {
     "data": {
      "text/html": [
       "<style type=\"text/css\">\n",
       "</style>\n",
       "<table id=\"T_fad6c\">\n",
       "  <thead>\n",
       "    <tr>\n",
       "      <th class=\"blank level0\" >&nbsp;</th>\n",
       "      <th id=\"T_fad6c_level0_col0\" class=\"col_heading level0 col0\" >Purchase Count</th>\n",
       "      <th id=\"T_fad6c_level0_col1\" class=\"col_heading level0 col1\" >Average Purchase Price</th>\n",
       "      <th id=\"T_fad6c_level0_col2\" class=\"col_heading level0 col2\" >Total Purchase Value</th>\n",
       "      <th id=\"T_fad6c_level0_col3\" class=\"col_heading level0 col3\" >Avg Total Purchase per Person</th>\n",
       "    </tr>\n",
       "  </thead>\n",
       "  <tbody>\n",
       "    <tr>\n",
       "      <th id=\"T_fad6c_level0_row0\" class=\"row_heading level0 row0\" >Female</th>\n",
       "      <td id=\"T_fad6c_row0_col0\" class=\"data row0 col0\" >113</td>\n",
       "      <td id=\"T_fad6c_row0_col1\" class=\"data row0 col1\" >$3.20</td>\n",
       "      <td id=\"T_fad6c_row0_col2\" class=\"data row0 col2\" >$361.94</td>\n",
       "      <td id=\"T_fad6c_row0_col3\" class=\"data row0 col3\" >$4.47</td>\n",
       "    </tr>\n",
       "    <tr>\n",
       "      <th id=\"T_fad6c_level0_row1\" class=\"row_heading level0 row1\" >Male</th>\n",
       "      <td id=\"T_fad6c_row1_col0\" class=\"data row1 col0\" >652</td>\n",
       "      <td id=\"T_fad6c_row1_col1\" class=\"data row1 col1\" >$3.02</td>\n",
       "      <td id=\"T_fad6c_row1_col2\" class=\"data row1 col2\" >$1,967.64</td>\n",
       "      <td id=\"T_fad6c_row1_col3\" class=\"data row1 col3\" >$4.07</td>\n",
       "    </tr>\n",
       "    <tr>\n",
       "      <th id=\"T_fad6c_level0_row2\" class=\"row_heading level0 row2\" >Other / Non-Disclosed</th>\n",
       "      <td id=\"T_fad6c_row2_col0\" class=\"data row2 col0\" >15</td>\n",
       "      <td id=\"T_fad6c_row2_col1\" class=\"data row2 col1\" >$3.35</td>\n",
       "      <td id=\"T_fad6c_row2_col2\" class=\"data row2 col2\" >$50.19</td>\n",
       "      <td id=\"T_fad6c_row2_col3\" class=\"data row2 col3\" >$4.56</td>\n",
       "    </tr>\n",
       "  </tbody>\n",
       "</table>\n"
      ],
      "text/plain": [
       "<pandas.io.formats.style.Styler at 0x1b0a173a100>"
      ]
     },
     "execution_count": 171,
     "metadata": {},
     "output_type": "execute_result"
    }
   ],
   "source": [
    "#Basic calculations\n",
    "purchase_count = gender_grouped['Purchase ID'].count()\n",
    "avg_purchase_price = gender_grouped.Price.mean()\n",
    "total_purchase_value = gender_grouped.Price.sum()\n",
    "avg_total_purchase_per_person = total_purchase_value / gender_count\n",
    "\n",
    "#Create the df, format, and remove index\n",
    "purchasing_analysis_gender = pd.DataFrame({\n",
    "    'Purchase Count': purchase_count,\n",
    "    'Average Purchase Price': avg_purchase_price,\n",
    "    'Total Purchase Value': total_purchase_value,\n",
    "    'Avg Total Purchase per Person': avg_total_purchase_per_person \n",
    "})\n",
    "\n",
    "purchasing_analysis_gender = purchasing_analysis_gender.style.format({\n",
    "    'Average Purchase Price': '${:.2f}',\n",
    "    'Total Purchase Value': '${:,.2f}',\n",
    "    'Avg Total Purchase per Person': '${:.2f}'\n",
    "})\n",
    "\n",
    "purchasing_analysis_gender.index.name = None\n",
    "\n",
    "purchasing_analysis_gender"
   ]
  },
  {
   "cell_type": "markdown",
   "metadata": {},
   "source": [
    "## Age Demographics"
   ]
  },
  {
   "cell_type": "markdown",
   "metadata": {},
   "source": [
    "* Establish bins for ages\n",
    "\n",
    "\n",
    "* Categorize the existing players using the age bins. Hint: use pd.cut()\n",
    "\n",
    "\n",
    "* Calculate the numbers and percentages by age group\n",
    "\n",
    "\n",
    "* Create a summary data frame to hold the results\n",
    "\n",
    "\n",
    "* Optional: round the percentage column to two decimal points\n",
    "\n",
    "\n",
    "* Display Age Demographics Table\n"
   ]
  },
  {
   "cell_type": "code",
   "execution_count": 172,
   "metadata": {},
   "outputs": [
    {
     "data": {
      "text/html": [
       "<style type=\"text/css\">\n",
       "</style>\n",
       "<table id=\"T_cf645\">\n",
       "  <thead>\n",
       "    <tr>\n",
       "      <th class=\"blank level0\" >&nbsp;</th>\n",
       "      <th id=\"T_cf645_level0_col0\" class=\"col_heading level0 col0\" >Total Count</th>\n",
       "      <th id=\"T_cf645_level0_col1\" class=\"col_heading level0 col1\" >Percentage of Players</th>\n",
       "    </tr>\n",
       "    <tr>\n",
       "      <th class=\"index_name level0\" >Age Ranges</th>\n",
       "      <th class=\"blank col0\" >&nbsp;</th>\n",
       "      <th class=\"blank col1\" >&nbsp;</th>\n",
       "    </tr>\n",
       "  </thead>\n",
       "  <tbody>\n",
       "    <tr>\n",
       "      <th id=\"T_cf645_level0_row0\" class=\"row_heading level0 row0\" ><10</th>\n",
       "      <td id=\"T_cf645_row0_col0\" class=\"data row0 col0\" >17</td>\n",
       "      <td id=\"T_cf645_row0_col1\" class=\"data row0 col1\" >2.95%</td>\n",
       "    </tr>\n",
       "    <tr>\n",
       "      <th id=\"T_cf645_level0_row1\" class=\"row_heading level0 row1\" >10-14</th>\n",
       "      <td id=\"T_cf645_row1_col0\" class=\"data row1 col0\" >22</td>\n",
       "      <td id=\"T_cf645_row1_col1\" class=\"data row1 col1\" >3.82%</td>\n",
       "    </tr>\n",
       "    <tr>\n",
       "      <th id=\"T_cf645_level0_row2\" class=\"row_heading level0 row2\" >15-19</th>\n",
       "      <td id=\"T_cf645_row2_col0\" class=\"data row2 col0\" >107</td>\n",
       "      <td id=\"T_cf645_row2_col1\" class=\"data row2 col1\" >18.58%</td>\n",
       "    </tr>\n",
       "    <tr>\n",
       "      <th id=\"T_cf645_level0_row3\" class=\"row_heading level0 row3\" >20-24</th>\n",
       "      <td id=\"T_cf645_row3_col0\" class=\"data row3 col0\" >258</td>\n",
       "      <td id=\"T_cf645_row3_col1\" class=\"data row3 col1\" >44.79%</td>\n",
       "    </tr>\n",
       "    <tr>\n",
       "      <th id=\"T_cf645_level0_row4\" class=\"row_heading level0 row4\" >25-29</th>\n",
       "      <td id=\"T_cf645_row4_col0\" class=\"data row4 col0\" >77</td>\n",
       "      <td id=\"T_cf645_row4_col1\" class=\"data row4 col1\" >13.37%</td>\n",
       "    </tr>\n",
       "    <tr>\n",
       "      <th id=\"T_cf645_level0_row5\" class=\"row_heading level0 row5\" >30-34</th>\n",
       "      <td id=\"T_cf645_row5_col0\" class=\"data row5 col0\" >52</td>\n",
       "      <td id=\"T_cf645_row5_col1\" class=\"data row5 col1\" >9.03%</td>\n",
       "    </tr>\n",
       "    <tr>\n",
       "      <th id=\"T_cf645_level0_row6\" class=\"row_heading level0 row6\" >35-39</th>\n",
       "      <td id=\"T_cf645_row6_col0\" class=\"data row6 col0\" >31</td>\n",
       "      <td id=\"T_cf645_row6_col1\" class=\"data row6 col1\" >5.38%</td>\n",
       "    </tr>\n",
       "    <tr>\n",
       "      <th id=\"T_cf645_level0_row7\" class=\"row_heading level0 row7\" >40+</th>\n",
       "      <td id=\"T_cf645_row7_col0\" class=\"data row7 col0\" >12</td>\n",
       "      <td id=\"T_cf645_row7_col1\" class=\"data row7 col1\" >2.08%</td>\n",
       "    </tr>\n",
       "  </tbody>\n",
       "</table>\n"
      ],
      "text/plain": [
       "<pandas.io.formats.style.Styler at 0x1b0a18e1bb0>"
      ]
     },
     "execution_count": 172,
     "metadata": {},
     "output_type": "execute_result"
    }
   ],
   "source": [
    "#Set bins and labels\n",
    "bins = [0,9.99,14.99,19.99,24.99,29.99,34.99,39.99,200]\n",
    "labels = ['<10','10-14','15-19','20-24','25-29','30-34','35-39','40+']\n",
    "\n",
    "#pd.cut the data\n",
    "purchase_data['Age Group'] = pd.cut(purchase_data.Age, bins, labels=labels)\n",
    "\n",
    "#group the data by age group\n",
    "age_grouped = purchase_data.groupby('Age Group')\n",
    "\n",
    "#count players in each age group off SN\n",
    "total_count = age_grouped.SN.nunique()\n",
    "\n",
    "#percentage of players in each age group\n",
    "percent_players = total_count / total_players\n",
    "\n",
    "#Create, format, and deindex the df\n",
    "age_demographics = pd.DataFrame({\n",
    "    'Total Count': total_count,\n",
    "    'Percentage of Players': percent_players\n",
    "})\n",
    "\n",
    "age_demographics = age_demographics.style.format({'Percentage of Players': '{:.2%}'})\n",
    "\n",
    "age_demographics.index.name = 'Age Ranges'\n",
    "\n",
    "age_demographics"
   ]
  },
  {
   "cell_type": "markdown",
   "metadata": {},
   "source": [
    "## Purchasing Analysis (Age)"
   ]
  },
  {
   "cell_type": "markdown",
   "metadata": {},
   "source": [
    "* Bin the purchase_data data frame by age\n",
    "\n",
    "\n",
    "* Run basic calculations to obtain purchase count, avg. purchase price, avg. purchase total per person etc. in the table below\n",
    "\n",
    "\n",
    "* Create a summary data frame to hold the results\n",
    "\n",
    "\n",
    "* Optional: give the displayed data cleaner formatting\n",
    "\n",
    "\n",
    "* Display the summary data frame"
   ]
  },
  {
   "cell_type": "code",
   "execution_count": 173,
   "metadata": {},
   "outputs": [
    {
     "data": {
      "text/html": [
       "<style type=\"text/css\">\n",
       "</style>\n",
       "<table id=\"T_646bb\">\n",
       "  <thead>\n",
       "    <tr>\n",
       "      <th class=\"blank level0\" >&nbsp;</th>\n",
       "      <th id=\"T_646bb_level0_col0\" class=\"col_heading level0 col0\" >Purchase Count</th>\n",
       "      <th id=\"T_646bb_level0_col1\" class=\"col_heading level0 col1\" >Average Purchase Price</th>\n",
       "      <th id=\"T_646bb_level0_col2\" class=\"col_heading level0 col2\" >Total Purchase Value</th>\n",
       "      <th id=\"T_646bb_level0_col3\" class=\"col_heading level0 col3\" >Avg Total Purchase per Person</th>\n",
       "    </tr>\n",
       "    <tr>\n",
       "      <th class=\"index_name level0\" >Age Ranges</th>\n",
       "      <th class=\"blank col0\" >&nbsp;</th>\n",
       "      <th class=\"blank col1\" >&nbsp;</th>\n",
       "      <th class=\"blank col2\" >&nbsp;</th>\n",
       "      <th class=\"blank col3\" >&nbsp;</th>\n",
       "    </tr>\n",
       "  </thead>\n",
       "  <tbody>\n",
       "    <tr>\n",
       "      <th id=\"T_646bb_level0_row0\" class=\"row_heading level0 row0\" ><10</th>\n",
       "      <td id=\"T_646bb_row0_col0\" class=\"data row0 col0\" >23</td>\n",
       "      <td id=\"T_646bb_row0_col1\" class=\"data row0 col1\" >$3.35</td>\n",
       "      <td id=\"T_646bb_row0_col2\" class=\"data row0 col2\" >$77.13</td>\n",
       "      <td id=\"T_646bb_row0_col3\" class=\"data row0 col3\" >$4.54</td>\n",
       "    </tr>\n",
       "    <tr>\n",
       "      <th id=\"T_646bb_level0_row1\" class=\"row_heading level0 row1\" >10-14</th>\n",
       "      <td id=\"T_646bb_row1_col0\" class=\"data row1 col0\" >28</td>\n",
       "      <td id=\"T_646bb_row1_col1\" class=\"data row1 col1\" >$2.96</td>\n",
       "      <td id=\"T_646bb_row1_col2\" class=\"data row1 col2\" >$82.78</td>\n",
       "      <td id=\"T_646bb_row1_col3\" class=\"data row1 col3\" >$3.76</td>\n",
       "    </tr>\n",
       "    <tr>\n",
       "      <th id=\"T_646bb_level0_row2\" class=\"row_heading level0 row2\" >15-19</th>\n",
       "      <td id=\"T_646bb_row2_col0\" class=\"data row2 col0\" >136</td>\n",
       "      <td id=\"T_646bb_row2_col1\" class=\"data row2 col1\" >$3.04</td>\n",
       "      <td id=\"T_646bb_row2_col2\" class=\"data row2 col2\" >$412.89</td>\n",
       "      <td id=\"T_646bb_row2_col3\" class=\"data row2 col3\" >$3.86</td>\n",
       "    </tr>\n",
       "    <tr>\n",
       "      <th id=\"T_646bb_level0_row3\" class=\"row_heading level0 row3\" >20-24</th>\n",
       "      <td id=\"T_646bb_row3_col0\" class=\"data row3 col0\" >365</td>\n",
       "      <td id=\"T_646bb_row3_col1\" class=\"data row3 col1\" >$3.05</td>\n",
       "      <td id=\"T_646bb_row3_col2\" class=\"data row3 col2\" >$1,114.06</td>\n",
       "      <td id=\"T_646bb_row3_col3\" class=\"data row3 col3\" >$4.32</td>\n",
       "    </tr>\n",
       "    <tr>\n",
       "      <th id=\"T_646bb_level0_row4\" class=\"row_heading level0 row4\" >25-29</th>\n",
       "      <td id=\"T_646bb_row4_col0\" class=\"data row4 col0\" >101</td>\n",
       "      <td id=\"T_646bb_row4_col1\" class=\"data row4 col1\" >$2.90</td>\n",
       "      <td id=\"T_646bb_row4_col2\" class=\"data row4 col2\" >$293.00</td>\n",
       "      <td id=\"T_646bb_row4_col3\" class=\"data row4 col3\" >$3.81</td>\n",
       "    </tr>\n",
       "    <tr>\n",
       "      <th id=\"T_646bb_level0_row5\" class=\"row_heading level0 row5\" >30-34</th>\n",
       "      <td id=\"T_646bb_row5_col0\" class=\"data row5 col0\" >73</td>\n",
       "      <td id=\"T_646bb_row5_col1\" class=\"data row5 col1\" >$2.93</td>\n",
       "      <td id=\"T_646bb_row5_col2\" class=\"data row5 col2\" >$214.00</td>\n",
       "      <td id=\"T_646bb_row5_col3\" class=\"data row5 col3\" >$4.12</td>\n",
       "    </tr>\n",
       "    <tr>\n",
       "      <th id=\"T_646bb_level0_row6\" class=\"row_heading level0 row6\" >35-39</th>\n",
       "      <td id=\"T_646bb_row6_col0\" class=\"data row6 col0\" >41</td>\n",
       "      <td id=\"T_646bb_row6_col1\" class=\"data row6 col1\" >$3.60</td>\n",
       "      <td id=\"T_646bb_row6_col2\" class=\"data row6 col2\" >$147.67</td>\n",
       "      <td id=\"T_646bb_row6_col3\" class=\"data row6 col3\" >$4.76</td>\n",
       "    </tr>\n",
       "    <tr>\n",
       "      <th id=\"T_646bb_level0_row7\" class=\"row_heading level0 row7\" >40+</th>\n",
       "      <td id=\"T_646bb_row7_col0\" class=\"data row7 col0\" >13</td>\n",
       "      <td id=\"T_646bb_row7_col1\" class=\"data row7 col1\" >$2.94</td>\n",
       "      <td id=\"T_646bb_row7_col2\" class=\"data row7 col2\" >$38.24</td>\n",
       "      <td id=\"T_646bb_row7_col3\" class=\"data row7 col3\" >$3.19</td>\n",
       "    </tr>\n",
       "  </tbody>\n",
       "</table>\n"
      ],
      "text/plain": [
       "<pandas.io.formats.style.Styler at 0x1b0a1743640>"
      ]
     },
     "execution_count": 173,
     "metadata": {},
     "output_type": "execute_result"
    }
   ],
   "source": [
    "#Basic calculations\n",
    "purchase_count = age_grouped['Purchase ID'].count()\n",
    "avg_purchase_price = age_grouped.Price.mean()\n",
    "total_purchase_value = age_grouped.Price.sum()\n",
    "avg_total_purchase_per_person = total_purchase_value / total_count\n",
    "\n",
    "#Create the df, format, and remove index\n",
    "purchasing_analysis_age = pd.DataFrame({\n",
    "    'Purchase Count': purchase_count,\n",
    "    'Average Purchase Price': avg_purchase_price,\n",
    "    'Total Purchase Value': total_purchase_value,\n",
    "    'Avg Total Purchase per Person': avg_total_purchase_per_person \n",
    "})\n",
    "\n",
    "purchasing_analysis_age = purchasing_analysis_age.style.format({\n",
    "    'Average Purchase Price': '${:.2f}',\n",
    "    'Total Purchase Value': '${:,.2f}',\n",
    "    'Avg Total Purchase per Person': '${:.2f}'\n",
    "})\n",
    "\n",
    "purchasing_analysis_age"
   ]
  },
  {
   "cell_type": "markdown",
   "metadata": {},
   "source": [
    "## Top Spenders"
   ]
  },
  {
   "cell_type": "markdown",
   "metadata": {},
   "source": [
    "* Run basic calculations to obtain the results in the table below\n",
    "\n",
    "\n",
    "* Create a summary data frame to hold the results\n",
    "\n",
    "\n",
    "* Sort the total purchase value column in descending order\n",
    "\n",
    "\n",
    "* Optional: give the displayed data cleaner formatting\n",
    "\n",
    "\n",
    "* Display a preview of the summary data frame\n",
    "\n"
   ]
  },
  {
   "cell_type": "code",
   "execution_count": 174,
   "metadata": {},
   "outputs": [
    {
     "data": {
      "text/html": [
       "<style type=\"text/css\">\n",
       "</style>\n",
       "<table id=\"T_2580d\">\n",
       "  <thead>\n",
       "    <tr>\n",
       "      <th class=\"blank level0\" >&nbsp;</th>\n",
       "      <th id=\"T_2580d_level0_col0\" class=\"col_heading level0 col0\" >Purchase Count</th>\n",
       "      <th id=\"T_2580d_level0_col1\" class=\"col_heading level0 col1\" >Average Purchase Price</th>\n",
       "      <th id=\"T_2580d_level0_col2\" class=\"col_heading level0 col2\" >Total Purchase Value</th>\n",
       "    </tr>\n",
       "    <tr>\n",
       "      <th class=\"index_name level0\" >SN</th>\n",
       "      <th class=\"blank col0\" >&nbsp;</th>\n",
       "      <th class=\"blank col1\" >&nbsp;</th>\n",
       "      <th class=\"blank col2\" >&nbsp;</th>\n",
       "    </tr>\n",
       "  </thead>\n",
       "  <tbody>\n",
       "    <tr>\n",
       "      <th id=\"T_2580d_level0_row0\" class=\"row_heading level0 row0\" >Lisosia93</th>\n",
       "      <td id=\"T_2580d_row0_col0\" class=\"data row0 col0\" >5</td>\n",
       "      <td id=\"T_2580d_row0_col1\" class=\"data row0 col1\" >$3.79</td>\n",
       "      <td id=\"T_2580d_row0_col2\" class=\"data row0 col2\" >$18.96</td>\n",
       "    </tr>\n",
       "    <tr>\n",
       "      <th id=\"T_2580d_level0_row1\" class=\"row_heading level0 row1\" >Idastidru52</th>\n",
       "      <td id=\"T_2580d_row1_col0\" class=\"data row1 col0\" >4</td>\n",
       "      <td id=\"T_2580d_row1_col1\" class=\"data row1 col1\" >$3.86</td>\n",
       "      <td id=\"T_2580d_row1_col2\" class=\"data row1 col2\" >$15.45</td>\n",
       "    </tr>\n",
       "    <tr>\n",
       "      <th id=\"T_2580d_level0_row2\" class=\"row_heading level0 row2\" >Chamjask73</th>\n",
       "      <td id=\"T_2580d_row2_col0\" class=\"data row2 col0\" >3</td>\n",
       "      <td id=\"T_2580d_row2_col1\" class=\"data row2 col1\" >$4.61</td>\n",
       "      <td id=\"T_2580d_row2_col2\" class=\"data row2 col2\" >$13.83</td>\n",
       "    </tr>\n",
       "    <tr>\n",
       "      <th id=\"T_2580d_level0_row3\" class=\"row_heading level0 row3\" >Iral74</th>\n",
       "      <td id=\"T_2580d_row3_col0\" class=\"data row3 col0\" >4</td>\n",
       "      <td id=\"T_2580d_row3_col1\" class=\"data row3 col1\" >$3.41</td>\n",
       "      <td id=\"T_2580d_row3_col2\" class=\"data row3 col2\" >$13.62</td>\n",
       "    </tr>\n",
       "    <tr>\n",
       "      <th id=\"T_2580d_level0_row4\" class=\"row_heading level0 row4\" >Iskadarya95</th>\n",
       "      <td id=\"T_2580d_row4_col0\" class=\"data row4 col0\" >3</td>\n",
       "      <td id=\"T_2580d_row4_col1\" class=\"data row4 col1\" >$4.37</td>\n",
       "      <td id=\"T_2580d_row4_col2\" class=\"data row4 col2\" >$13.10</td>\n",
       "    </tr>\n",
       "  </tbody>\n",
       "</table>\n"
      ],
      "text/plain": [
       "<pandas.io.formats.style.Styler at 0x1b0a18d9730>"
      ]
     },
     "execution_count": 174,
     "metadata": {},
     "output_type": "execute_result"
    }
   ],
   "source": [
    "#Group by SN\n",
    "spender_grouped = purchase_data.groupby('SN')\n",
    "\n",
    "#Basic calculations\n",
    "purchase_count = spender_grouped['Purchase ID'].count()\n",
    "avg_purchase_price = spender_grouped.Price.mean()\n",
    "total_purchase_value = spender_grouped.Price.sum()\n",
    "\n",
    "#Create the df, format, and sort\n",
    "top_spenders = pd.DataFrame({\n",
    "    'Purchase Count': purchase_count,\n",
    "    'Average Purchase Price': avg_purchase_price,\n",
    "    'Total Purchase Value': total_purchase_value, \n",
    "})\n",
    "\n",
    "top_spenders = top_spenders.sort_values(['Total Purchase Value'], ascending=False).head().style.format({\n",
    "    'Average Purchase Price': '${:.2f}',\n",
    "    'Total Purchase Value': '${:,.2f}',\n",
    "})\n",
    "\n",
    "top_spenders"
   ]
  },
  {
   "cell_type": "markdown",
   "metadata": {},
   "source": [
    "## Most Popular Items"
   ]
  },
  {
   "cell_type": "markdown",
   "metadata": {},
   "source": [
    "* Retrieve the Item ID, Item Name, and Item Price columns\n",
    "\n",
    "\n",
    "* Group by Item ID and Item Name. Perform calculations to obtain purchase count, average item price, and total purchase value\n",
    "\n",
    "\n",
    "* Create a summary data frame to hold the results\n",
    "\n",
    "\n",
    "* Sort the purchase count column in descending order\n",
    "\n",
    "\n",
    "* Optional: give the displayed data cleaner formatting\n",
    "\n",
    "\n",
    "* Display a preview of the summary data frame\n",
    "\n"
   ]
  },
  {
   "cell_type": "code",
   "execution_count": 175,
   "metadata": {},
   "outputs": [
    {
     "data": {
      "text/html": [
       "<style type=\"text/css\">\n",
       "</style>\n",
       "<table id=\"T_66dfe\">\n",
       "  <thead>\n",
       "    <tr>\n",
       "      <th class=\"blank\" >&nbsp;</th>\n",
       "      <th class=\"blank level0\" >&nbsp;</th>\n",
       "      <th id=\"T_66dfe_level0_col0\" class=\"col_heading level0 col0\" >Purchase Count</th>\n",
       "      <th id=\"T_66dfe_level0_col1\" class=\"col_heading level0 col1\" >Item Price</th>\n",
       "      <th id=\"T_66dfe_level0_col2\" class=\"col_heading level0 col2\" >Total Purchase Value</th>\n",
       "    </tr>\n",
       "    <tr>\n",
       "      <th class=\"index_name level0\" >Item ID</th>\n",
       "      <th class=\"index_name level1\" >Item Name</th>\n",
       "      <th class=\"blank col0\" >&nbsp;</th>\n",
       "      <th class=\"blank col1\" >&nbsp;</th>\n",
       "      <th class=\"blank col2\" >&nbsp;</th>\n",
       "    </tr>\n",
       "  </thead>\n",
       "  <tbody>\n",
       "    <tr>\n",
       "      <th id=\"T_66dfe_level0_row0\" class=\"row_heading level0 row0\" >92</th>\n",
       "      <th id=\"T_66dfe_level1_row0\" class=\"row_heading level1 row0\" >Final Critic</th>\n",
       "      <td id=\"T_66dfe_row0_col0\" class=\"data row0 col0\" >13</td>\n",
       "      <td id=\"T_66dfe_row0_col1\" class=\"data row0 col1\" >$4.61</td>\n",
       "      <td id=\"T_66dfe_row0_col2\" class=\"data row0 col2\" >$59.99</td>\n",
       "    </tr>\n",
       "    <tr>\n",
       "      <th id=\"T_66dfe_level0_row1\" class=\"row_heading level0 row1\" >178</th>\n",
       "      <th id=\"T_66dfe_level1_row1\" class=\"row_heading level1 row1\" >Oathbreaker, Last Hope of the Breaking Storm</th>\n",
       "      <td id=\"T_66dfe_row1_col0\" class=\"data row1 col0\" >12</td>\n",
       "      <td id=\"T_66dfe_row1_col1\" class=\"data row1 col1\" >$4.23</td>\n",
       "      <td id=\"T_66dfe_row1_col2\" class=\"data row1 col2\" >$50.76</td>\n",
       "    </tr>\n",
       "    <tr>\n",
       "      <th id=\"T_66dfe_level0_row2\" class=\"row_heading level0 row2\" >145</th>\n",
       "      <th id=\"T_66dfe_level1_row2\" class=\"row_heading level1 row2\" >Fiery Glass Crusader</th>\n",
       "      <td id=\"T_66dfe_row2_col0\" class=\"data row2 col0\" >9</td>\n",
       "      <td id=\"T_66dfe_row2_col1\" class=\"data row2 col1\" >$4.58</td>\n",
       "      <td id=\"T_66dfe_row2_col2\" class=\"data row2 col2\" >$41.22</td>\n",
       "    </tr>\n",
       "    <tr>\n",
       "      <th id=\"T_66dfe_level0_row3\" class=\"row_heading level0 row3\" >132</th>\n",
       "      <th id=\"T_66dfe_level1_row3\" class=\"row_heading level1 row3\" >Persuasion</th>\n",
       "      <td id=\"T_66dfe_row3_col0\" class=\"data row3 col0\" >9</td>\n",
       "      <td id=\"T_66dfe_row3_col1\" class=\"data row3 col1\" >$3.22</td>\n",
       "      <td id=\"T_66dfe_row3_col2\" class=\"data row3 col2\" >$28.99</td>\n",
       "    </tr>\n",
       "    <tr>\n",
       "      <th id=\"T_66dfe_level0_row4\" class=\"row_heading level0 row4\" >108</th>\n",
       "      <th id=\"T_66dfe_level1_row4\" class=\"row_heading level1 row4\" >Extraction, Quickblade Of Trembling Hands</th>\n",
       "      <td id=\"T_66dfe_row4_col0\" class=\"data row4 col0\" >9</td>\n",
       "      <td id=\"T_66dfe_row4_col1\" class=\"data row4 col1\" >$3.53</td>\n",
       "      <td id=\"T_66dfe_row4_col2\" class=\"data row4 col2\" >$31.77</td>\n",
       "    </tr>\n",
       "  </tbody>\n",
       "</table>\n"
      ],
      "text/plain": [
       "<pandas.io.formats.style.Styler at 0x1b0a17435b0>"
      ]
     },
     "execution_count": 175,
     "metadata": {},
     "output_type": "execute_result"
    }
   ],
   "source": [
    "#Group by Item ID and Item Name\n",
    "item_grouped = purchase_data.groupby(['Item ID','Item Name'])\n",
    "\n",
    "#Perform calculations\n",
    "purchase_count = item_grouped['Purchase ID'].count()\n",
    "total_purchase_value = item_grouped.Price.sum()\n",
    "item_price = total_purchase_value / purchase_count\n",
    "\n",
    "#Create the df, format, and sort\n",
    "popular_items = pd.DataFrame({\n",
    "    'Purchase Count': purchase_count,\n",
    "    'Item Price': item_price,\n",
    "    'Total Purchase Value': total_purchase_value, \n",
    "})\n",
    "\n",
    "popular_items_formatted = popular_items.sort_values(['Purchase Count'], ascending=False).head().style.format({\n",
    "    'Item Price': '${:.2f}',\n",
    "    'Total Purchase Value': '${:,.2f}',\n",
    "})\n",
    "\n",
    "popular_items_formatted"
   ]
  },
  {
   "cell_type": "markdown",
   "metadata": {},
   "source": [
    "## Most Profitable Items"
   ]
  },
  {
   "cell_type": "markdown",
   "metadata": {},
   "source": [
    "* Sort the above table by total purchase value in descending order\n",
    "\n",
    "\n",
    "* Optional: give the displayed data cleaner formatting\n",
    "\n",
    "\n",
    "* Display a preview of the data frame\n",
    "\n"
   ]
  },
  {
   "cell_type": "code",
   "execution_count": 176,
   "metadata": {
    "scrolled": true
   },
   "outputs": [
    {
     "data": {
      "text/html": [
       "<style type=\"text/css\">\n",
       "</style>\n",
       "<table id=\"T_37473\">\n",
       "  <thead>\n",
       "    <tr>\n",
       "      <th class=\"blank\" >&nbsp;</th>\n",
       "      <th class=\"blank level0\" >&nbsp;</th>\n",
       "      <th id=\"T_37473_level0_col0\" class=\"col_heading level0 col0\" >Purchase Count</th>\n",
       "      <th id=\"T_37473_level0_col1\" class=\"col_heading level0 col1\" >Item Price</th>\n",
       "      <th id=\"T_37473_level0_col2\" class=\"col_heading level0 col2\" >Total Purchase Value</th>\n",
       "    </tr>\n",
       "    <tr>\n",
       "      <th class=\"index_name level0\" >Item ID</th>\n",
       "      <th class=\"index_name level1\" >Item Name</th>\n",
       "      <th class=\"blank col0\" >&nbsp;</th>\n",
       "      <th class=\"blank col1\" >&nbsp;</th>\n",
       "      <th class=\"blank col2\" >&nbsp;</th>\n",
       "    </tr>\n",
       "  </thead>\n",
       "  <tbody>\n",
       "    <tr>\n",
       "      <th id=\"T_37473_level0_row0\" class=\"row_heading level0 row0\" >92</th>\n",
       "      <th id=\"T_37473_level1_row0\" class=\"row_heading level1 row0\" >Final Critic</th>\n",
       "      <td id=\"T_37473_row0_col0\" class=\"data row0 col0\" >13</td>\n",
       "      <td id=\"T_37473_row0_col1\" class=\"data row0 col1\" >$4.61</td>\n",
       "      <td id=\"T_37473_row0_col2\" class=\"data row0 col2\" >$59.99</td>\n",
       "    </tr>\n",
       "    <tr>\n",
       "      <th id=\"T_37473_level0_row1\" class=\"row_heading level0 row1\" >178</th>\n",
       "      <th id=\"T_37473_level1_row1\" class=\"row_heading level1 row1\" >Oathbreaker, Last Hope of the Breaking Storm</th>\n",
       "      <td id=\"T_37473_row1_col0\" class=\"data row1 col0\" >12</td>\n",
       "      <td id=\"T_37473_row1_col1\" class=\"data row1 col1\" >$4.23</td>\n",
       "      <td id=\"T_37473_row1_col2\" class=\"data row1 col2\" >$50.76</td>\n",
       "    </tr>\n",
       "    <tr>\n",
       "      <th id=\"T_37473_level0_row2\" class=\"row_heading level0 row2\" >82</th>\n",
       "      <th id=\"T_37473_level1_row2\" class=\"row_heading level1 row2\" >Nirvana</th>\n",
       "      <td id=\"T_37473_row2_col0\" class=\"data row2 col0\" >9</td>\n",
       "      <td id=\"T_37473_row2_col1\" class=\"data row2 col1\" >$4.90</td>\n",
       "      <td id=\"T_37473_row2_col2\" class=\"data row2 col2\" >$44.10</td>\n",
       "    </tr>\n",
       "    <tr>\n",
       "      <th id=\"T_37473_level0_row3\" class=\"row_heading level0 row3\" >145</th>\n",
       "      <th id=\"T_37473_level1_row3\" class=\"row_heading level1 row3\" >Fiery Glass Crusader</th>\n",
       "      <td id=\"T_37473_row3_col0\" class=\"data row3 col0\" >9</td>\n",
       "      <td id=\"T_37473_row3_col1\" class=\"data row3 col1\" >$4.58</td>\n",
       "      <td id=\"T_37473_row3_col2\" class=\"data row3 col2\" >$41.22</td>\n",
       "    </tr>\n",
       "    <tr>\n",
       "      <th id=\"T_37473_level0_row4\" class=\"row_heading level0 row4\" >103</th>\n",
       "      <th id=\"T_37473_level1_row4\" class=\"row_heading level1 row4\" >Singed Scalpel</th>\n",
       "      <td id=\"T_37473_row4_col0\" class=\"data row4 col0\" >8</td>\n",
       "      <td id=\"T_37473_row4_col1\" class=\"data row4 col1\" >$4.35</td>\n",
       "      <td id=\"T_37473_row4_col2\" class=\"data row4 col2\" >$34.80</td>\n",
       "    </tr>\n",
       "  </tbody>\n",
       "</table>\n"
      ],
      "text/plain": [
       "<pandas.io.formats.style.Styler at 0x1b0a17f33d0>"
      ]
     },
     "execution_count": 176,
     "metadata": {},
     "output_type": "execute_result"
    }
   ],
   "source": [
    "profitable_items_formatted = popular_items.sort_values(['Total Purchase Value'], ascending=False).head().style.format({\n",
    "    'Item Price': '${:.2f}',\n",
    "    'Total Purchase Value': '${:,.2f}',\n",
    "})\n",
    "\n",
    "profitable_items_formatted"
   ]
  }
 ],
 "metadata": {
  "anaconda-cloud": {},
  "kernel_info": {
   "name": "python3"
  },
  "kernelspec": {
   "display_name": "Python 3.9.12 ('base')",
   "language": "python",
   "name": "python3"
  },
  "language_info": {
   "codemirror_mode": {
    "name": "ipython",
    "version": 3
   },
   "file_extension": ".py",
   "mimetype": "text/x-python",
   "name": "python",
   "nbconvert_exporter": "python",
   "pygments_lexer": "ipython3",
   "version": "3.9.12"
  },
  "latex_envs": {
   "LaTeX_envs_menu_present": true,
   "autoclose": false,
   "autocomplete": true,
   "bibliofile": "biblio.bib",
   "cite_by": "apalike",
   "current_citInitial": 1,
   "eqLabelWithNumbers": true,
   "eqNumInitial": 1,
   "hotkeys": {
    "equation": "Ctrl-E",
    "itemize": "Ctrl-I"
   },
   "labels_anchors": false,
   "latex_user_defs": false,
   "report_style_numbering": false,
   "user_envs_cfg": false
  },
  "nteract": {
   "version": "0.2.0"
  },
  "vscode": {
   "interpreter": {
    "hash": "5b0b07944c5dbc91a88e284768cab79a207cf3dc0826e4b143a459b8bc7027e6"
   }
  }
 },
 "nbformat": 4,
 "nbformat_minor": 2
}
